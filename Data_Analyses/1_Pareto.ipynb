{
 "cells": [
  {
   "cell_type": "markdown",
   "metadata": {},
   "source": [
    "** ABC / Pareto Analyses **\n",
    "\n",
    "Category A : 15 - 20% of items, explains 80% of outcome\n",
    "Category B : 30 - 35% of item, explains 15% of outcome\n",
    "Category C : 50% (left over), explains 5% of outcome\n"
   ]
  },
  {
   "cell_type": "code",
   "execution_count": null,
   "metadata": {},
   "outputs": [],
   "source": [
    "import numpy as np\n",
    "import pandas as pd\n",
    "# from abc_analysis import abc_analysis"
   ]
  },
  {
   "cell_type": "code",
   "execution_count": null,
   "metadata": {},
   "outputs": [],
   "source": [
    "#Prep data\n",
    "\n",
    "df = pd.read_csv(\n",
    "    'https://bit.ly/ytviews_abc',\n",
    "    usecols= [1,2,3],\n",
    "    header= 0\n",
    ")\n",
    "\n",
    "df.head()"
   ]
  }
 ],
 "metadata": {
  "kernelspec": {
   "display_name": "Python 3.10.5 64-bit (windows store)",
   "language": "python",
   "name": "python3"
  },
  "language_info": {
   "name": "python",
   "version": "3.10.5"
  },
  "orig_nbformat": 4,
  "vscode": {
   "interpreter": {
    "hash": "e522d0b6a750fde9619a2e2c38417e6bd8e9c32f66f233cd1705006caa48bdbb"
   }
  }
 },
 "nbformat": 4,
 "nbformat_minor": 2
}
