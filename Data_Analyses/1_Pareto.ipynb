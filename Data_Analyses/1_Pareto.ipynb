'''ABC / Pareto Analyses 
Category A : 15 - 20% of items, explains 80% of outcome
Category B : 30 - 35% of item, explains 15% of outcome
Category C : 50% (left over), explains 5% of outcome
'''

