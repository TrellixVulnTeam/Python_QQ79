{
 "cells": [
  {
   "cell_type": "markdown",
   "metadata": {},
   "source": [
    "Openpyxl - como um VBA, conseguimos entrar na planilha e editar formulas ou cells especificas.\n",
    "\n",
    "Pandas - trata o excel como uma base de dados, melhor para analises e manipular dados."
   ]
  },
  {
   "cell_type": "markdown",
   "metadata": {},
   "source": [
    "##### PANDAS"
   ]
  },
  {
   "cell_type": "code",
   "execution_count": 9,
   "metadata": {},
   "outputs": [
    {
     "data": {
      "text/html": [
       "<div>\n",
       "<style scoped>\n",
       "    .dataframe tbody tr th:only-of-type {\n",
       "        vertical-align: middle;\n",
       "    }\n",
       "\n",
       "    .dataframe tbody tr th {\n",
       "        vertical-align: top;\n",
       "    }\n",
       "\n",
       "    .dataframe thead th {\n",
       "        text-align: right;\n",
       "    }\n",
       "</style>\n",
       "<table border=\"1\" class=\"dataframe\">\n",
       "  <thead>\n",
       "    <tr style=\"text-align: right;\">\n",
       "      <th></th>\n",
       "      <th>Cliente</th>\n",
       "      <th>Modelo</th>\n",
       "      <th>Sell Out</th>\n",
       "      <th>Estoque</th>\n",
       "      <th>Multiplicador</th>\n",
       "      <th>M1</th>\n",
       "    </tr>\n",
       "  </thead>\n",
       "  <tbody>\n",
       "    <tr>\n",
       "      <th>0</th>\n",
       "      <td>VIA VAREJO</td>\n",
       "      <td>STK12</td>\n",
       "      <td>1000</td>\n",
       "      <td>20000</td>\n",
       "      <td>1.2</td>\n",
       "      <td>24000</td>\n",
       "    </tr>\n",
       "    <tr>\n",
       "      <th>1</th>\n",
       "      <td>Luiza</td>\n",
       "      <td>STK12</td>\n",
       "      <td>800</td>\n",
       "      <td>17000</td>\n",
       "      <td>1.2</td>\n",
       "      <td>20400</td>\n",
       "    </tr>\n",
       "    <tr>\n",
       "      <th>2</th>\n",
       "      <td>Havan</td>\n",
       "      <td>STK12</td>\n",
       "      <td>500</td>\n",
       "      <td>15000</td>\n",
       "      <td>1.2</td>\n",
       "      <td>18000</td>\n",
       "    </tr>\n",
       "  </tbody>\n",
       "</table>\n",
       "</div>"
      ],
      "text/plain": [
       "      Cliente Modelo  Sell Out  Estoque  Multiplicador     M1\n",
       "0  VIA VAREJO  STK12      1000    20000            1.2  24000\n",
       "1       Luiza  STK12       800    17000            1.2  20400\n",
       "2       Havan  STK12       500    15000            1.2  18000"
      ]
     },
     "metadata": {},
     "output_type": "display_data"
    }
   ],
   "source": [
    "# NO excel > M1 =  Sell Out * Multiplicador\n",
    "\n",
    "import pandas as pd\n",
    "\n",
    "path = r'C:\\Users\\goncavic01\\.vscode\\github\\Python\\Python-1\\SDA_Vendas_python.xlsx'\n",
    "tabela = pd.read_excel(path,sheet_name='Vendas', header= 0)\n",
    "\n",
    "display(tabela)"
   ]
  },
  {
   "cell_type": "code",
   "execution_count": 14,
   "metadata": {},
   "outputs": [
    {
     "data": {
      "text/html": [
       "<div>\n",
       "<style scoped>\n",
       "    .dataframe tbody tr th:only-of-type {\n",
       "        vertical-align: middle;\n",
       "    }\n",
       "\n",
       "    .dataframe tbody tr th {\n",
       "        vertical-align: top;\n",
       "    }\n",
       "\n",
       "    .dataframe thead th {\n",
       "        text-align: right;\n",
       "    }\n",
       "</style>\n",
       "<table border=\"1\" class=\"dataframe\">\n",
       "  <thead>\n",
       "    <tr style=\"text-align: right;\">\n",
       "      <th></th>\n",
       "      <th>Cliente</th>\n",
       "      <th>Modelo</th>\n",
       "      <th>Sell Out</th>\n",
       "      <th>Estoque</th>\n",
       "      <th>Multiplicador</th>\n",
       "      <th>M1</th>\n",
       "    </tr>\n",
       "  </thead>\n",
       "  <tbody>\n",
       "    <tr>\n",
       "      <th>0</th>\n",
       "      <td>VIA VAREJO</td>\n",
       "      <td>STK12</td>\n",
       "      <td>1000</td>\n",
       "      <td>20000</td>\n",
       "      <td>1.2</td>\n",
       "      <td>1200.0</td>\n",
       "    </tr>\n",
       "    <tr>\n",
       "      <th>1</th>\n",
       "      <td>Luiza</td>\n",
       "      <td>STK12</td>\n",
       "      <td>800</td>\n",
       "      <td>17000</td>\n",
       "      <td>1.2</td>\n",
       "      <td>960.0</td>\n",
       "    </tr>\n",
       "    <tr>\n",
       "      <th>2</th>\n",
       "      <td>Havan</td>\n",
       "      <td>STK12</td>\n",
       "      <td>500</td>\n",
       "      <td>15000</td>\n",
       "      <td>2.1</td>\n",
       "      <td>1050.0</td>\n",
       "    </tr>\n",
       "  </tbody>\n",
       "</table>\n",
       "</div>"
      ],
      "text/plain": [
       "      Cliente Modelo  Sell Out  Estoque  Multiplicador      M1\n",
       "0  VIA VAREJO  STK12      1000    20000            1.2  1200.0\n",
       "1       Luiza  STK12       800    17000            1.2   960.0\n",
       "2       Havan  STK12       500    15000            2.1  1050.0"
      ]
     },
     "metadata": {},
     "output_type": "display_data"
    }
   ],
   "source": [
    "# atualizar o multiplicador - no pandas temos que refazer a conta com o novo multiplicador\n",
    "# tabela.loc[linha,coluna]\n",
    "\n",
    "tabela.loc[tabela['Cliente'] == 'Havan', 'Multiplicador'] = 2.1\n",
    "\n",
    "tabela['M1'] = tabela['Multiplicador'] * tabela['Sell Out']\n",
    "\n",
    "display(tabela)\n"
   ]
  },
  {
   "cell_type": "code",
   "execution_count": null,
   "metadata": {},
   "outputs": [],
   "source": [
    "#salvar o arquivo em Excel\n",
    "tabela.to_excel('Vendas_Pandas.xlsx', index = False)"
   ]
  },
  {
   "cell_type": "markdown",
   "metadata": {},
   "source": [
    "#### OPENPYXL"
   ]
  },
  {
   "cell_type": "code",
   "execution_count": 25,
   "metadata": {},
   "outputs": [],
   "source": [
    "from openpyxl import Workbook, load_workbook\n",
    "\n",
    "#carregando o Arquivo\n",
    "book = load_workbook(path)\n",
    "\n",
    "#carregando a ABA\n",
    "pagina = book['Vendas']\n",
    "#se for somente 1 aba usamos: book.active\n",
    "\n",
    "#percorrendo as celulas na Coluna A\n",
    "for cell in pagina['A']:\n",
    "    if cell.value == 'Havan':\n",
    "        linha = cell.row\n",
    "        pagina[f'E{linha}'] = 2.5\n",
    "\n",
    "book.save('Vendas_openpy.xlsx')"
   ]
  }
 ],
 "metadata": {
  "kernelspec": {
   "display_name": "Python 3.9.13 64-bit",
   "language": "python",
   "name": "python3"
  },
  "language_info": {
   "codemirror_mode": {
    "name": "ipython",
    "version": 3
   },
   "file_extension": ".py",
   "mimetype": "text/x-python",
   "name": "python",
   "nbconvert_exporter": "python",
   "pygments_lexer": "ipython3",
   "version": "3.9.13"
  },
  "orig_nbformat": 4,
  "vscode": {
   "interpreter": {
    "hash": "3f87adfe6a5180f0a30c05d11533ceece4e1801d94a6f872d0bfa584051c48ab"
   }
  }
 },
 "nbformat": 4,
 "nbformat_minor": 2
}
