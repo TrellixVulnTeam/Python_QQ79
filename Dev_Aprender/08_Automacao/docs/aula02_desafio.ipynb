{
 "cells": [
  {
   "cell_type": "markdown",
   "metadata": {},
   "source": [
    "### Desafio\n",
    "\n",
    "Crie um arquivo csv chamado pessoas.csv usando dict writter, esse arquivo deve conter o formato:\n",
    "\n",
    "1) Formato:\n",
    "nome,idade,altura\n",
    "Mark,25,170\n",
    "Carol,19,160\n",
    "Robert,65,175\n",
    "\n",
    "2) Apos isso adicione cm ao final de cada altura;\n",
    "\n",
    "----------\n",
    "- Indicar o caminho\n",
    "- Abrir o arquivo\n",
    "- Ler ou escrever\n",
    "- Fechar o arquivo"
   ]
  },
  {
   "cell_type": "code",
   "execution_count": 17,
   "metadata": {},
   "outputs": [],
   "source": [
    "from csv import DictReader,DictWriter\n",
    "from os import sep\n",
    "\n",
    "path = ('C:\\\\Users\\\\goncavic01\\\\.vscode\\\\github\\\\Python\\\\Python-1\\\\Dev_Aprender\\\\08_Automacao\\\\docs')\n",
    "file = open(path + sep + 'pessoas.csv','w', newline='', encoding='utf-8')\n",
    "\n",
    "with file:\n",
    "    header = ['NOME','IDADE','ALTURA']\n",
    "    csv_w = DictWriter(file, fieldnames= header)\n",
    "    csv_w.writeheader()\n",
    "\n",
    "    csv_w.writerow({\n",
    "        'NOME': 'Mac',\n",
    "        'IDADE': 30,\n",
    "        'ALTURA': 1.87})\n",
    "    csv_w.writerow({\n",
    "        'NOME': 'Drake',\n",
    "        'IDADE': 38,\n",
    "        'ALTURA': 1.97})\n",
    "    csv_w.writerow({\n",
    "        'NOME': 'J Cole',\n",
    "        'IDADE': 32,\n",
    "        'ALTURA': 1.77})\n",
    "\n",
    "#Arquivo csv criado"
   ]
  },
  {
   "cell_type": "code",
   "execution_count": 18,
   "metadata": {},
   "outputs": [
    {
     "name": "stdout",
     "output_type": "stream",
     "text": [
      "dict_keys(['NOME', 'IDADE', 'ALTURA'])\n"
     ]
    }
   ],
   "source": [
    "# adicionar cm a altura\n",
    "from csv import DictReader,DictWriter\n",
    "\n",
    "old_path = (r'C:\\Users\\goncavic01\\.vscode\\github\\Python\\Python-1\\Dev_Aprender\\08_Automacao\\docs\\pessoas.csv')\n",
    "\n",
    "old_file = open(old_path,'r')\n",
    "old_data = list(DictReader(old_file))\n",
    "print(old_data[0].keys())\n",
    "# for data in old_data:\n",
    "#     print(data.keys())\n",
    "\n",
    "    "
   ]
  },
  {
   "cell_type": "code",
   "execution_count": 25,
   "metadata": {},
   "outputs": [
    {
     "ename": "ValueError",
     "evalue": "I/O operation on closed file.",
     "output_type": "error",
     "traceback": [
      "\u001b[1;31m---------------------------------------------------------------------------\u001b[0m",
      "\u001b[1;31mValueError\u001b[0m                                Traceback (most recent call last)",
      "Cell \u001b[1;32mIn [25], line 11\u001b[0m\n\u001b[0;32m      9\u001b[0m \u001b[38;5;66;03m# print(new_csv)\u001b[39;00m\n\u001b[0;32m     10\u001b[0m \u001b[38;5;28;01mfor\u001b[39;00m data \u001b[38;5;129;01min\u001b[39;00m old_data:\n\u001b[1;32m---> 11\u001b[0m     \u001b[43mcsv_w\u001b[49m\u001b[38;5;241;43m.\u001b[39;49m\u001b[43mwriterow\u001b[49m\u001b[43m(\u001b[49m\u001b[43m{\u001b[49m\n\u001b[0;32m     12\u001b[0m \u001b[43m        \u001b[49m\u001b[38;5;124;43m'\u001b[39;49m\u001b[38;5;124;43mNOME\u001b[39;49m\u001b[38;5;124;43m'\u001b[39;49m\u001b[43m \u001b[49m\u001b[43m:\u001b[49m\u001b[43mdata\u001b[49m\u001b[43m[\u001b[49m\u001b[38;5;124;43m'\u001b[39;49m\u001b[38;5;124;43mNOME\u001b[39;49m\u001b[38;5;124;43m'\u001b[39;49m\u001b[43m]\u001b[49m\u001b[43m,\u001b[49m\n\u001b[0;32m     13\u001b[0m \u001b[43m        \u001b[49m\u001b[38;5;124;43m'\u001b[39;49m\u001b[38;5;124;43mIDADE\u001b[39;49m\u001b[38;5;124;43m'\u001b[39;49m\u001b[43m \u001b[49m\u001b[43m:\u001b[49m\u001b[43m \u001b[49m\u001b[43mdata\u001b[49m\u001b[43m[\u001b[49m\u001b[38;5;124;43m'\u001b[39;49m\u001b[38;5;124;43mIDADE\u001b[39;49m\u001b[38;5;124;43m'\u001b[39;49m\u001b[43m]\u001b[49m\u001b[43m,\u001b[49m\n\u001b[0;32m     14\u001b[0m \u001b[43m        \u001b[49m\u001b[38;5;124;43m'\u001b[39;49m\u001b[38;5;124;43mALTURA\u001b[39;49m\u001b[38;5;124;43m'\u001b[39;49m\u001b[43m:\u001b[49m\u001b[43m \u001b[49m\u001b[43m(\u001b[49m\u001b[43mdata\u001b[49m\u001b[43m[\u001b[49m\u001b[38;5;124;43m'\u001b[39;49m\u001b[38;5;124;43mALTURA\u001b[39;49m\u001b[38;5;124;43m'\u001b[39;49m\u001b[43m]\u001b[49m\u001b[43m \u001b[49m\u001b[38;5;241;43m+\u001b[39;49m\u001b[43m \u001b[49m\u001b[38;5;124;43m'\u001b[39;49m\u001b[38;5;124;43m cm\u001b[39;49m\u001b[38;5;124;43m'\u001b[39;49m\u001b[43m)\u001b[49m\n\u001b[0;32m     15\u001b[0m \u001b[43m        \u001b[49m\u001b[43m}\u001b[49m\u001b[43m)\u001b[49m\n",
      "File \u001b[1;32mc:\\Users\\goncavic01\\AppData\\Local\\Programs\\Python\\Python39\\lib\\csv.py:154\u001b[0m, in \u001b[0;36mDictWriter.writerow\u001b[1;34m(self, rowdict)\u001b[0m\n\u001b[0;32m    153\u001b[0m \u001b[39mdef\u001b[39;00m \u001b[39mwriterow\u001b[39m(\u001b[39mself\u001b[39m, rowdict):\n\u001b[1;32m--> 154\u001b[0m     \u001b[39mreturn\u001b[39;00m \u001b[39mself\u001b[39;49m\u001b[39m.\u001b[39;49mwriter\u001b[39m.\u001b[39;49mwriterow(\u001b[39mself\u001b[39;49m\u001b[39m.\u001b[39;49m_dict_to_list(rowdict))\n",
      "\u001b[1;31mValueError\u001b[0m: I/O operation on closed file."
     ]
    }
   ],
   "source": [
    "\n",
    "new_path = (r'C:\\Users\\goncavic01\\.vscode\\github\\Python\\Python-1\\Dev_Aprender\\08_Automacao\\docs\\pessoas_v02.csv')\n",
    "\n",
    "with open(new_path,'w',newline='',encoding='utf-8') as new_file:\n",
    "        header = old_data[0].keys()\n",
    "        new_csv = DictWriter(new_file,fieldnames=header)\n",
    "        new_csv.writeheader()\n",
    "    \n",
    "        # print(new_csv)\n",
    "        for data in old_data:\n",
    "            csv_w.writerow({\n",
    "                'NOME' :data['NOME'],\n",
    "                'IDADE' : data['IDADE'],\n",
    "                'ALTURA': (data['ALTURA'] + ' cm')\n",
    "                })"
   ]
  }
 ],
 "metadata": {
  "kernelspec": {
   "display_name": "Python 3.9.13 64-bit",
   "language": "python",
   "name": "python3"
  },
  "language_info": {
   "codemirror_mode": {
    "name": "ipython",
    "version": 3
   },
   "file_extension": ".py",
   "mimetype": "text/x-python",
   "name": "python",
   "nbconvert_exporter": "python",
   "pygments_lexer": "ipython3",
   "version": "3.9.13"
  },
  "orig_nbformat": 4,
  "vscode": {
   "interpreter": {
    "hash": "3f87adfe6a5180f0a30c05d11533ceece4e1801d94a6f872d0bfa584051c48ab"
   }
  }
 },
 "nbformat": 4,
 "nbformat_minor": 2
}
