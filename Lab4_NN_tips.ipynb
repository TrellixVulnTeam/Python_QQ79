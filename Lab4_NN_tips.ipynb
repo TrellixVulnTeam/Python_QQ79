{
  "nbformat": 4,
  "nbformat_minor": 0,
  "metadata": {
    "colab": {
      "name": "NN tips.ipynb",
      "provenance": [],
      "collapsed_sections": [],
      "include_colab_link": true
    },
    "kernelspec": {
      "name": "python3",
      "display_name": "Python 3"
    },
    "language_info": {
      "name": "python"
    }
  },
  "cells": [
    {
      "cell_type": "markdown",
      "metadata": {
        "id": "view-in-github",
        "colab_type": "text"
      },
      "source": [
        "<a href=\"https://colab.research.google.com/github/victor1cg/Python/blob/master/Lab4_NN_tips.ipynb\" target=\"_parent\"><img src=\"https://colab.research.google.com/assets/colab-badge.svg\" alt=\"Open In Colab\"/></a>"
      ]
    },
    {
      "cell_type": "markdown",
      "metadata": {
        "id": "a49wN0fdE19N"
      },
      "source": [
        "# Theory\n",
        "\n",
        "In this first part, we are going to see some useful techniques that are commonly used when training a Neural Network. \\\n",
        "We start by creating a dataset."
      ]
    },
    {
      "cell_type": "code",
      "metadata": {
        "id": "qZL8Toy9E3yo"
      },
      "source": [
        "from sklearn.datasets import load_wine #load our target dataset\n",
        "from sklearn.model_selection import train_test_split\n",
        "import numpy as np\n",
        "\n",
        "#load the dataset\n",
        "dataset = load_wine()\n",
        "\n",
        "#extract X and y\n",
        "X = dataset.data\n",
        "y = dataset.target\n",
        "\n",
        "#split\n",
        "X_train_val, X_test, y_train_val, y_test = train_test_split(X, y, train_size = 0.8, random_state = 123) \n",
        "X_train, X_val, y_train, y_val = train_test_split(X_train_val, y_train_val, train_size = 0.9, random_state = 123) "
      ],
      "execution_count": 1,
      "outputs": []
    },
    {
      "cell_type": "markdown",
      "metadata": {
        "id": "GexK_nGyFZ9t"
      },
      "source": [
        "We then create a MLP, as we did in the introductory part of Keras."
      ]
    },
    {
      "cell_type": "code",
      "metadata": {
        "id": "Bbf3MdF3FJJJ"
      },
      "source": [
        "import tensorflow #the backend used by Keras (there are different beckend)\n",
        "from tensorflow.keras.models import Sequential #import the type of mpdel: sequential (e.g., MLP)\n",
        "from tensorflow.keras.layers import Input, Dense #simple linear layer\n",
        "from tensorflow.keras.utils import to_categorical # transformation for classification labels\n",
        "from keras.utils.vis_utils import plot_model\n",
        "from tensorflow.python.framework.random_seed import set_random_seed\n",
        "import matplotlib.pyplot as plt"
      ],
      "execution_count": 2,
      "outputs": []
    },
    {
      "cell_type": "code",
      "metadata": {
        "colab": {
          "base_uri": "https://localhost:8080/"
        },
        "id": "CjuMCk4RFilL",
        "outputId": "a3f5c1eb-5bf5-4b3f-9ec8-408e9ac7fb79"
      },
      "source": [
        "# Configuration options\n",
        "#see the number of labels\n",
        "labels = set(y_train)\n",
        "print(labels, len(labels))\n",
        "\n",
        "# Configuration options\n",
        "feature_vector_length = X.shape[1] #how many features\n",
        "num_classes = len(labels) #how many classes"
      ],
      "execution_count": 3,
      "outputs": [
        {
          "output_type": "stream",
          "name": "stdout",
          "text": [
            "{0, 1, 2} 3\n"
          ]
        }
      ]
    },
    {
      "cell_type": "code",
      "metadata": {
        "id": "Eq5ZvhNnFjpj"
      },
      "source": [
        "#convert to one-hot encoding representation the ground truth\n",
        "y_train_cat = to_categorical(y_train, num_classes)\n",
        "y_test_cat = to_categorical(y_test, num_classes)"
      ],
      "execution_count": 4,
      "outputs": []
    },
    {
      "cell_type": "code",
      "metadata": {
        "colab": {
          "base_uri": "https://localhost:8080/",
          "height": 569
        },
        "id": "5sfHSbA_GYZQ",
        "outputId": "8a606eec-21f0-4203-ce67-25a1eb7af4b6"
      },
      "source": [
        "#IMPORTANT: add ALWAYS these two lines when you define a new model\n",
        "np.random.seed(123)\n",
        "set_random_seed(2)\n",
        "\n",
        "model = Sequential() #we first define how the \"model\" looks like\n",
        "model.add(Dense(input_dim = feature_vector_length, units=feature_vector_length , activation='relu')) #input layer\n",
        "model.add(Dense(num_classes, activation='softmax')) #output layer\n",
        "print(model.summary())\n",
        "plot_model(model, show_shapes= True)"
      ],
      "execution_count": 5,
      "outputs": [
        {
          "output_type": "stream",
          "name": "stdout",
          "text": [
            "Model: \"sequential\"\n",
            "_________________________________________________________________\n",
            " Layer (type)                Output Shape              Param #   \n",
            "=================================================================\n",
            " dense (Dense)               (None, 13)                182       \n",
            "                                                                 \n",
            " dense_1 (Dense)             (None, 3)                 42        \n",
            "                                                                 \n",
            "=================================================================\n",
            "Total params: 224\n",
            "Trainable params: 224\n",
            "Non-trainable params: 0\n",
            "_________________________________________________________________\n",
            "None\n"
          ]
        },
        {
          "output_type": "execute_result",
          "data": {
            "image/png": "[encoded data removed]",
            "text/plain": [
              "<IPython.core.display.Image object>"
            ]
          },
          "metadata": {},
          "execution_count": 5
        }
      ]
    },
    {
      "cell_type": "markdown",
      "metadata": {
        "id": "eJjWMWXAGhha"
      },
      "source": [
        "We now train our model. \\\n",
        "During our training, we use several *epochs*, meaning that our model see more times the same training samples. \n",
        "\n",
        "When using more epochs, it is important to look at the training curve, i.e., we print the loss (or accuracy) of both training and validation at the varying of the epochs. \n",
        "\n",
        "This plot can tell us a lot about the trained model, such as:\n",
        "\n",
        "\n",
        "1.   Is there any underfitting / overfitting problem?\n",
        "2.   How is then training curve shape? \n"
      ]
    },
    {
      "cell_type": "code",
      "metadata": {
        "colab": {
          "base_uri": "https://localhost:8080/"
        },
        "id": "gixakiTZGgsv",
        "outputId": "fc6e7b16-b548-4cf6-f628-400ccffcb366"
      },
      "source": [
        "# Configure the model and start training\n",
        "model.compile(loss='categorical_crossentropy', #loss metric\n",
        "    optimizer='sgd',  #optimizer\n",
        "    metrics=['accuracy']) #displayed metric\n",
        "\n",
        "\n",
        "#fit\n",
        "history = model.fit(X_train, y_train_cat, epochs=5, batch_size=8, verbose=1, validation_split=0.1)"
      ],
      "execution_count": 6,
      "outputs": [
        {
          "output_type": "stream",
          "name": "stdout",
          "text": [
            "Epoch 1/5\n",
            "15/15 [==============================] - 1s 12ms/step - loss: 6.3676 - accuracy: 0.3596 - val_loss: 1.0926 - val_accuracy: 0.6154\n",
            "Epoch 2/5\n",
            "15/15 [==============================] - 0s 3ms/step - loss: 1.0951 - accuracy: 0.4298 - val_loss: 1.0843 - val_accuracy: 0.6154\n",
            "Epoch 3/5\n",
            "15/15 [==============================] - 0s 2ms/step - loss: 1.0922 - accuracy: 0.4298 - val_loss: 1.0755 - val_accuracy: 0.6154\n",
            "Epoch 4/5\n",
            "15/15 [==============================] - 0s 3ms/step - loss: 1.0891 - accuracy: 0.4298 - val_loss: 1.0703 - val_accuracy: 0.6154\n",
            "Epoch 5/5\n",
            "15/15 [==============================] - 0s 4ms/step - loss: 1.0871 - accuracy: 0.4298 - val_loss: 1.0636 - val_accuracy: 0.6154\n"
          ]
        }
      ]
    },
    {
      "cell_type": "code",
      "metadata": {
        "colab": {
          "base_uri": "https://localhost:8080/",
          "height": 295
        },
        "id": "71S0yvkrHWrn",
        "outputId": "ce719ce2-0ba0-46e5-8d3b-b2deb4658bda"
      },
      "source": [
        "# summarize history for accuracy\n",
        "plt.plot(history.history['accuracy'])\n",
        "plt.plot(history.history['val_accuracy'])\n",
        "plt.title('model accuracy')\n",
        "plt.ylabel('accuracy')\n",
        "plt.xlabel('epoch')\n",
        "plt.legend(['train', 'val'], loc='upper left')\n",
        "# plt.ylim(0.8, 1)\n",
        "plt.show()"
      ],
      "execution_count": 7,
      "outputs": [
        {
          "output_type": "display_data",
          "data": {
            "image/png": "[encoded data removed]",
            "text/plain": [
              "<Figure size 432x288 with 1 Axes>"
            ]
          },
          "metadata": {
            "needs_background": "light"
          }
        }
      ]
    },
    {
      "cell_type": "code",
      "metadata": {
        "colab": {
          "base_uri": "https://localhost:8080/",
          "height": 295
        },
        "id": "YUNsLM47IDJz",
        "outputId": "e52bc234-9775-4b7f-da82-424a1219251a"
      },
      "source": [
        "# summarize history for loss\n",
        "plt.plot(history.history['loss'])\n",
        "plt.plot(history.history['val_loss'])\n",
        "plt.title('model loss')\n",
        "plt.ylabel('loss')\n",
        "plt.xlabel('epoch')\n",
        "plt.legend(['train', 'val'], loc='upper left')\n",
        "plt.show()"
      ],
      "execution_count": 8,
      "outputs": [
        {
          "output_type": "display_data",
          "data": {
            "image/png": "[encoded data removed]",
            "text/plain": [
              "<Figure size 432x288 with 1 Axes>"
            ]
          },
          "metadata": {
            "needs_background": "light"
          }
        }
      ]
    },
    {
      "cell_type": "markdown",
      "metadata": {
        "id": "9X7cKEFfIIMp"
      },
      "source": [
        "This is kind of a toy-sh dataset. /\n",
        "Here, we see a clear pattern of the loss error: a rapid decreasing after the second epoch, and then the model already reached an equilibrium on its loss, i.e.g., the model does not improve its performance.\n",
        " \n",
        "\n",
        "It is thus important to ask, how many epochs should we use? \n",
        "For example, right now we see that 2 epochs are enough. \n",
        "However, we trained our model for 5 epochs more. \n",
        "In this case, this was not time consuming, since each epoch took ~$1 ms$.\n",
        "This might not be acceptable in more challenging task, where one epoch might least 1h, 1d, or even 1 week. \n",
        "We can save our time by introducing an **early stopping mechanism**. \n",
        "For example, during the training, if the model validation loss does not improve \n",
        "for 3 epochs, we decide to stop. \n",
        "In this way, we can even set the number of epochs to 10000. \n",
        "\n",
        "\n",
        "<a href = \"https://keras.io/api/callbacks/early_stopping/\"> [link] </a>"
      ]
    },
    {
      "cell_type": "code",
      "metadata": {
        "colab": {
          "base_uri": "https://localhost:8080/"
        },
        "id": "-LBo5rRtK51b",
        "outputId": "d4c778b7-3bec-49a7-8a4f-97362096bdf0"
      },
      "source": [
        "from keras.callbacks import EarlyStopping\n",
        "\n",
        "# simple early stopping\n",
        "es = EarlyStopping(monitor='val_loss', #quantity to be monitored\n",
        "                   mode='min', #we look for decreasing patterns stop \n",
        "                   patience = 3, #number of epochs with no improvement\n",
        "                   verbose=1)\n",
        "\n",
        "#ALWAYS input this, to have the same results\n",
        "np.random.seed(123)\n",
        "set_random_seed(2)\n",
        "\n",
        "model2 = Sequential() #we first define how the \"model\" looks like\n",
        "model2.add(Dense(input_dim = feature_vector_length, units=feature_vector_length , activation='relu')) #input layer\n",
        "model2.add(Dense(num_classes, activation='softmax')) #output layer\n",
        "\n",
        "# Configure the model and start training\n",
        "model2.compile(loss='categorical_crossentropy', #loss metric\n",
        "    optimizer='sgd',  #optimizer\n",
        "    metrics=['accuracy']) #displayed metric\n",
        "\n",
        "\n",
        "history2 = model2.fit(X_train, y_train_cat, epochs=500, batch_size=16, verbose=0, validation_split=0.1, callbacks=[es])"
      ],
      "execution_count": null,
      "outputs": [
        {
          "output_type": "stream",
          "name": "stdout",
          "text": [
            "Epoch 00058: early stopping\n"
          ]
        }
      ]
    },
    {
      "cell_type": "code",
      "metadata": {
        "colab": {
          "base_uri": "https://localhost:8080/"
        },
        "id": "MNM9PjfsL-8p",
        "outputId": "c722403a-7ebd-46a8-b4f9-8af0d212e91a"
      },
      "source": [
        "# summarize history for loss\n",
        "plt.plot(history2.history['loss'])\n",
        "plt.plot(history2.history['val_loss'])\n",
        "plt.title('model loss')\n",
        "plt.ylabel('loss')\n",
        "plt.xlabel('epoch')\n",
        "plt.legend(['train', 'val'], loc='upper left')\n",
        "plt.ylim(0, 2)\n",
        "plt.show()"
      ],
      "execution_count": null,
      "outputs": [
        {
          "output_type": "display_data",
          "data": {
            "image/png": "[encoded data removed]",
            "text/plain": [
              "<Figure size 432x288 with 1 Axes>"
            ]
          },
          "metadata": {
            "needs_background": "light"
          }
        }
      ]
    },
    {
      "cell_type": "markdown",
      "metadata": {
        "id": "NIogo8oU4C0o"
      },
      "source": [
        "# Exercise 1\n",
        "\n",
        "In this first exercise, we are going to guide you through several NN experiments on a more challenging dataset. \n",
        "\n",
        "We start by creating a dataset. "
      ]
    },
    {
      "cell_type": "code",
      "metadata": {
        "id": "PxYR7qaB4Xae",
        "colab": {
          "base_uri": "https://localhost:8080/",
          "height": 531
        },
        "outputId": "07cb8354-b007-4c5f-ca9c-d0a26f7ffcb4"
      },
      "source": [
        "from sklearn import datasets\n",
        "import numpy as np\n",
        "np.random.seed(123)\n",
        "X, y = datasets.make_classification(n_samples=1500, n_features=2, random_state=123, n_redundant= 0, scale=10, shift=10)\n",
        "X[:, 0] = X[:, 0]*0.1\n",
        "X_train, X_test, y_train, y_test = train_test_split(X, y, train_size = 0.8, random_state = 123)\n",
        "\n",
        "\n",
        "#Plotting\n",
        "fig = plt.figure(figsize=(10,8))\n",
        "plt.plot(X[:, 0][y == 0], X[:, 1][y == 0], 'r^')\n",
        "plt.plot(X[:, 0][y == 1], X[:, 1][y == 1], 'bs')\n",
        "plt.xlabel(\"X1\")\n",
        "plt.ylabel(\"X2\")\n",
        "plt.title('Random Classification Data with 2 classes')"
      ],
      "execution_count": 9,
      "outputs": [
        {
          "output_type": "execute_result",
          "data": {
            "text/plain": [
              "Text(0.5, 1.0, 'Random Classification Data with 2 classes')"
            ]
          },
          "metadata": {},
          "execution_count": 9
        },
        {
          "output_type": "display_data",
          "data": {
            "image/png": "[encoded data removed]",
            "text/plain": [
              "<Figure size 720x576 with 1 Axes>"
            ]
          },
          "metadata": {
            "needs_background": "light"
          }
        }
      ]
    },
    {
      "cell_type": "markdown",
      "metadata": {
        "id": "EghVG8Cp5Ftd"
      },
      "source": [
        "## Ex1.1\n",
        "\n",
        "Create a MLP called $model_1$ with two layers:\n",
        "\n",
        "1.   one hidden layer with 5 neurons and relu as activation function. \n",
        "2.   one output layer.\n",
        "\n",
        "Then, train it for 5 epochs, batch size = 16, and a validation set of 25%. \n"
      ]
    },
    {
      "cell_type": "code",
      "metadata": {
        "id": "_q8fPhQgOTjh"
      },
      "source": [
        "## EX1.1 HERE\n",
        "\n",
        "# Configuration options\n",
        "feature_vector_length = 2 #how many features\n",
        "num_classes = 2 #how many classes"
      ],
      "execution_count": 10,
      "outputs": []
    },
    {
      "cell_type": "code",
      "metadata": {
        "id": "H1LmBcSDFZ-n"
      },
      "source": [
        "# Create the model\n",
        "model = Sequential() #we first define how the \"model\" looks like\n",
        "model.add(Dense(input_dim = feature_vector_length, units=2 , activation='relu')) #input layer\n",
        "model.add(Dense(num_classes, activation='softmax')) #output layer"
      ],
      "execution_count": 11,
      "outputs": []
    },
    {
      "cell_type": "code",
      "metadata": {
        "colab": {
          "base_uri": "https://localhost:8080/"
        },
        "id": "MLOW8KOWGH9F",
        "outputId": "787cf45b-7932-4b5d-8112-a1d777937eb2"
      },
      "source": [
        "print(model.summary())"
      ],
      "execution_count": 12,
      "outputs": [
        {
          "output_type": "stream",
          "name": "stdout",
          "text": [
            "Model: \"sequential_1\"\n",
            "_________________________________________________________________\n",
            " Layer (type)                Output Shape              Param #   \n",
            "=================================================================\n",
            " dense_2 (Dense)             (None, 2)                 6         \n",
            "                                                                 \n",
            " dense_3 (Dense)             (None, 2)                 6         \n",
            "                                                                 \n",
            "=================================================================\n",
            "Total params: 12\n",
            "Trainable params: 12\n",
            "Non-trainable params: 0\n",
            "_________________________________________________________________\n",
            "None\n"
          ]
        }
      ]
    },
    {
      "cell_type": "markdown",
      "metadata": {
        "id": "uNZrrLfeOwL4"
      },
      "source": [
        "# Ex 1.2"
      ]
    },
    {
      "cell_type": "markdown",
      "metadata": {
        "id": "BSiEGPpf506U"
      },
      "source": [
        "Plot both accuracy and loss curves with respect to the epoch number.\n",
        "\n",
        "Answer the following:\n",
        "\n",
        "1.   Is there any underfitting / overfitting problem?\n",
        "2.   How is then training curve shape? \n",
        "\n"
      ]
    },
    {
      "cell_type": "code",
      "metadata": {
        "id": "C660_3yvPX-c"
      },
      "source": [
        "### Ex1.2 HERE"
      ],
      "execution_count": null,
      "outputs": []
    },
    {
      "cell_type": "markdown",
      "metadata": {
        "id": "u8sy6gaQ8b4h"
      },
      "source": [
        "The loss curve tells us that the training improves only up to two epochs, but the validation accuracy, and to less extent the validation loss, is unstable. \n",
        "\n",
        "Let's see if we can improve the model in the next exercise. "
      ]
    },
    {
      "cell_type": "markdown",
      "metadata": {
        "id": "aoF-TBRaQh5Y"
      },
      "source": [
        "### Ex1.3"
      ]
    },
    {
      "cell_type": "markdown",
      "metadata": {
        "id": "PDsR2r-A-EIM"
      },
      "source": [
        "We move temporarily into an important aspect: *knowing our data*.\n",
        "As we introduced in our last lesson, the goal of a good data scientist is not only to provide a good training model, but he / she needs to learn the data we are experimenting with. </br>\n",
        "When working with a dataset, try to answer to the following:\n",
        "\n",
        "\n",
        "1.   Is the ground truth balanced among the classes? In case of an unbalanced dataset, we need to be more careful on how we compute the performance. \n",
        "2.   What are the properties of the input features? For each feature, you can understand the following: i) is it defined in the discrete or continuous domain? if defined in the continous domain, How is it distributed? For example, print the minimum and maximum values for each feature.\n",
        "\n",
        "Based on the answers, we can \"improve\" our training strategy. \n",
        "\n",
        "\n"
      ]
    },
    {
      "cell_type": "code",
      "metadata": {
        "id": "u_2G3MEMQnUC"
      },
      "source": [
        "### Ex1.3.1 HERE"
      ],
      "execution_count": null,
      "outputs": []
    },
    {
      "cell_type": "markdown",
      "metadata": {
        "id": "BkQMGqDW_q-p"
      },
      "source": [
        "The ground truth is completely balanced. Let's see how the features looks like. "
      ]
    },
    {
      "cell_type": "code",
      "metadata": {
        "id": "5Xu_YEiXQ4P3"
      },
      "source": [
        "### Ex1.3.2 HERE"
      ],
      "execution_count": null,
      "outputs": []
    },
    {
      "cell_type": "markdown",
      "metadata": {
        "id": "Q3PEThT-APqx"
      },
      "source": [
        "Ok. This might be an issue for our training model. \\\n",
        "Remember, Neural Networks are trained with optimizers based on the gradient. \n",
        "This implies that the optimization might not be efficient when the features are not defined in the same range, since the we are using one learning rate to control the updates along features on different ranges.  \n",
        "\n",
        "\n",
        "### Ex 1.4\n",
        "\n",
        "We can try to now improve our model by scaling the features. Use a standard scaler to scale $X_{train}$ and $X_{test}$, create a new MLP $model_2$ and train it with the same configurations (architecure, training strategy) as done  for $model_1$. \n",
        "\n",
        "Then we'll do some plots to check the accuracy and loss of the latest model and finally compare it with the previous one (see below for details)\n"
      ]
    },
    {
      "cell_type": "code",
      "metadata": {
        "id": "HeVmkr7URYUU"
      },
      "source": [
        "### Ex1.4 HERE"
      ],
      "execution_count": null,
      "outputs": []
    },
    {
      "cell_type": "markdown",
      "metadata": {
        "id": "tZU2nux1B__s"
      },
      "source": [
        "Our second model gained an improvement in the validation accuracy (+5%), which is not bad at all given that we just did a simple preprocessing. \\\n",
        "But let us plot the accuracy on train and validation of our latest model with respect to the number of epochs. "
      ]
    },
    {
      "cell_type": "code",
      "metadata": {
        "id": "7fxhthBIB-51"
      },
      "source": [
        "# accuracy plot\n"
      ],
      "execution_count": null,
      "outputs": []
    },
    {
      "cell_type": "markdown",
      "metadata": {
        "id": "Akcf3cf6xnMC"
      },
      "source": [
        "Let's now plot the loss of our latest model on the train and validation sets. "
      ]
    },
    {
      "cell_type": "code",
      "metadata": {
        "id": "ewRuk71mLzhC"
      },
      "source": [
        "# loss plot\n"
      ],
      "execution_count": null,
      "outputs": []
    },
    {
      "cell_type": "markdown",
      "metadata": {
        "id": "3DMgxBGIPwfh"
      },
      "source": [
        "Let's now compare the performance of the two models on the validation set. "
      ]
    },
    {
      "cell_type": "code",
      "metadata": {
        "id": "Un5L2N1xP6vo"
      },
      "source": [
        "# comparison of the loss of the two models on the validation set\n",
        "\n"
      ],
      "execution_count": null,
      "outputs": []
    },
    {
      "cell_type": "markdown",
      "metadata": {
        "id": "WMet2H6SQUn3"
      },
      "source": [
        "The accuracy scores improve \"regularly\" using the scaled dataset. \\\n",
        "As we noticed in the original training, the model can still learn by increasing the number of epochs. \\\n",
        "\n",
        "# Ex1.5\n",
        "\n",
        "Let's do it. \\\n",
        "For example, we can train a new MLP $model_3$ for 50 epochs. \n",
        "Print loss and accuracy curves, and then visually analyze them. \\\n",
        "Again, use the same configuration as $model_1$.\n"
      ]
    },
    {
      "cell_type": "code",
      "metadata": {
        "id": "qh5v8GwsjKJ6"
      },
      "source": [
        "# EX 1.5"
      ],
      "execution_count": null,
      "outputs": []
    },
    {
      "cell_type": "code",
      "metadata": {
        "id": "3ZzzRGBbRNb3"
      },
      "source": [
        "# summarize history for accuracy\n",
        "plt.plot(history3.history['accuracy'])\n",
        "plt.plot(history3.history['val_accuracy'])\n",
        "plt.title('model accuracy')\n",
        "plt.ylabel('accuracy')\n",
        "plt.xlabel('epoch')\n",
        "plt.legend(['train', 'val'], loc='upper left')\n",
        "# plt.ylim(0.8, 1)\n",
        "plt.show()"
      ],
      "execution_count": null,
      "outputs": []
    },
    {
      "cell_type": "code",
      "metadata": {
        "id": "g3klp2lRRXDl"
      },
      "source": [
        "# summarize history for the loss\n",
        "plt.plot(history3.history['loss'])\n",
        "plt.plot(history3.history['val_loss'])\n",
        "plt.title('model loss')\n",
        "plt.ylabel('loss')\n",
        "plt.xlabel('epoch')\n",
        "plt.legend(['train', 'val'], loc='upper left')\n",
        "# plt.ylim(0.8, 1)\n",
        "plt.show()"
      ],
      "execution_count": null,
      "outputs": []
    },
    {
      "cell_type": "markdown",
      "metadata": {
        "id": "-_tGPuFWReDl"
      },
      "source": [
        "The charts show some common training trends. For example, let's consider the loss:\n",
        "\n",
        "\n",
        "1.   In the early stages (epoch 1 - 5), there is a phase where the model performance improve quickly. \n",
        "2.   From epoch 6 to 15, there is a stabilization trend, where the model improves at a lower rate, and it might seem that the training is almost done. Then there is a new phase of improvement. \n",
        "3.   After epoch 30, the loss does not improve much, and the loss decreases very slowly.\n",
        "\n",
        "### Ex1.6\n",
        "\n",
        "Define a fourth MLP $model_4$ with the early stopping mechanism with patience = 3. Use the same configuration of $model_1$.\n",
        "Train the model for 500 epochs, and then plot the accuracy and loss curves.\n",
        "\n"
      ]
    },
    {
      "cell_type": "code",
      "metadata": {
        "id": "8uVerzYNj143"
      },
      "source": [
        "### Ex1.6 HERE"
      ],
      "execution_count": null,
      "outputs": []
    },
    {
      "cell_type": "code",
      "metadata": {
        "id": "hW_F3wffWUGE"
      },
      "source": [
        "# summarize history for accuracy\n",
        "plt.plot(history4.history['accuracy'])\n",
        "plt.plot(history4.history['val_accuracy'])\n",
        "plt.title('model accuracy')\n",
        "plt.ylabel('accuracy')\n",
        "plt.xlabel('epoch')\n",
        "plt.legend(['train', 'val'], loc='upper left')\n",
        "# plt.ylim(0.8, 1)\n",
        "plt.show()"
      ],
      "execution_count": null,
      "outputs": []
    },
    {
      "cell_type": "code",
      "metadata": {
        "id": "Fyn20hD3Wday"
      },
      "source": [
        "# summarize history for loss\n",
        "plt.plot(history4.history['loss'])\n",
        "plt.plot(history4.history['val_loss'])\n",
        "plt.title('model accuracy')\n",
        "plt.ylabel('loss')\n",
        "plt.xlabel('epoch')\n",
        "plt.legend(['train', 'val'], loc='upper left')\n",
        "# plt.ylim(0.8, 1)\n",
        "plt.show()"
      ],
      "execution_count": null,
      "outputs": []
    },
    {
      "cell_type": "markdown",
      "metadata": {
        "id": "dOj4-MQfWlBa"
      },
      "source": [
        "We see that the model stopped at epoch 137. </br>\n",
        "\n",
        "### Ex 1.6 \n",
        "\n",
        "We created so far $4$ models, with four different training strategy, but the same MLP structure. \\\n",
        "\n",
        "We can now see what it would happen on the \"real\" life, i.e., if the fourth model is actually the best on the testing set as well. \n",
        "Remember: the fourth seems the best based on the validation accuracy and loss."
      ]
    },
    {
      "cell_type": "code",
      "metadata": {
        "id": "nqMhGf_FkXZz"
      },
      "source": [
        "### Ex1.6"
      ],
      "execution_count": null,
      "outputs": []
    },
    {
      "cell_type": "markdown",
      "metadata": {
        "id": "YqfM0IP2kcko"
      },
      "source": [
        "### Ex1.7 \n",
        "\n",
        "So far, when we defined a new model, we always \"repeated\" a set of instructions, like model definition (i.e., Sequential, add Dense layers, compile). \\\n",
        "\n",
        "It's time to speed-up this process. \n",
        "Create a function that, given the number of layers, creates a MLP. \n",
        "Here, we set the number of neurons to 2 for all hidden layers, and activaiton function as relu. The output layer's number of neurons depend on the number of classes we use, while the activation function is a softmax. "
      ]
    },
    {
      "cell_type": "code",
      "metadata": {
        "id": "CdqAJ2GclDU7"
      },
      "source": [
        "### Ex1.7\n",
        "\n",
        "def MLP_definer(n_layers, input_size, n_classes, activation_f):\n",
        "  "
      ],
      "execution_count": null,
      "outputs": []
    },
    {
      "cell_type": "markdown",
      "metadata": {
        "id": "UDhZj1BOlOOF"
      },
      "source": [
        "# Ex 1.8 \n",
        "\n",
        "Let's now consider the number of layers (not counting the input and output ones) of the network as a hyperparameter. \n",
        "\n",
        "Using the function you just defined in the previous exercise, implement a grid-search among different number of layers (from 0 to 4). \\\n",
        "Remember to use the earlystopping mechanism. \\\n",
        "Print both training and validation accuracies.\n",
        "Any comment?"
      ]
    },
    {
      "cell_type": "code",
      "metadata": {
        "id": "BWxx2Cj9KO13"
      },
      "source": [
        "# Exercise 1.8"
      ],
      "execution_count": null,
      "outputs": []
    },
    {
      "cell_type": "markdown",
      "metadata": {
        "id": "egfEBWwVL97q"
      },
      "source": [
        "# Ex 2\n",
        "\n",
        "In this new exercise, it's time to be more independent from us. \\\n",
        "Consider the *wine_dataset*, can you improve the model performance?\n",
        "\n",
        "Adopt the tips we saw in this lecture. \\\n",
        "\n",
        "Remember: use the testing set only *at the end*, when you selected the best model. \n"
      ]
    },
    {
      "cell_type": "code",
      "metadata": {
        "id": "6nzTWpLGMUEP"
      },
      "source": [
        "#load the dataset\n",
        "dataset = load_wine()\n",
        "\n",
        "#extract X and y\n",
        "X = dataset.data\n",
        "y = dataset.target\n",
        "\n",
        "#split\n",
        "X_train_val, X_test, y_train_val, y_test = train_test_split(X, y, train_size = 0.8, random_state = 123) "
      ],
      "execution_count": null,
      "outputs": []
    }
  ]
}